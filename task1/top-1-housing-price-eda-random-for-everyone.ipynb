{
 "cells": [
  {
   "cell_type": "markdown",
   "id": "b7f570b4",
   "metadata": {
    "papermill": {
     "duration": 0.011081,
     "end_time": "2022-09-16T01:37:54.574874",
     "exception": false,
     "start_time": "2022-09-16T01:37:54.563793",
     "status": "completed"
    },
    "tags": []
   },
   "source": [
    "## Housing Prices Competition🏠🏡"
   ]
  },
  {
   "cell_type": "markdown",
   "id": "d14bef60",
   "metadata": {
    "papermill": {
     "duration": 0.009213,
     "end_time": "2022-09-16T01:37:54.593834",
     "exception": false,
     "start_time": "2022-09-16T01:37:54.584621",
     "status": "completed"
    },
    "tags": []
   },
   "source": [
    "---"
   ]
  },
  {
   "cell_type": "markdown",
   "id": "59218411",
   "metadata": {
    "papermill": {
     "duration": 0.008848,
     "end_time": "2022-09-16T01:37:54.611958",
     "exception": false,
     "start_time": "2022-09-16T01:37:54.603110",
     "status": "completed"
    },
    "tags": []
   },
   "source": [
    "## 1.Importing Libraries 😁"
   ]
  },
  {
   "cell_type": "code",
   "execution_count": 1,
   "id": "8e14fca4",
   "metadata": {
    "execution": {
     "iopub.execute_input": "2022-09-16T01:37:54.633225Z",
     "iopub.status.busy": "2022-09-16T01:37:54.631881Z",
     "iopub.status.idle": "2022-09-16T01:37:56.328379Z",
     "shell.execute_reply": "2022-09-16T01:37:56.327133Z"
    },
    "papermill": {
     "duration": 1.710475,
     "end_time": "2022-09-16T01:37:56.331693",
     "exception": false,
     "start_time": "2022-09-16T01:37:54.621218",
     "status": "completed"
    },
    "tags": []
   },
   "outputs": [],
   "source": [
    "import pandas as pd \n",
    "import seaborn as sns\n",
    "import matplotlib.pyplot as plt\n",
    "sns.set_style('darkgrid')\n",
    "from sklearn.ensemble import GradientBoostingRegressor\n",
    "from sklearn.metrics import mean_absolute_error\n",
    "from sklearn.model_selection import train_test_split, cross_val_score\n",
    "from sklearn.compose import ColumnTransformer\n",
    "from sklearn.pipeline import Pipeline\n",
    "from sklearn.impute import SimpleImputer\n",
    "from sklearn.preprocessing import OneHotEncoder"
   ]
  },
  {
   "cell_type": "markdown",
   "id": "ac3790ec",
   "metadata": {
    "papermill": {
     "duration": 0.009783,
     "end_time": "2022-09-16T01:37:56.351054",
     "exception": false,
     "start_time": "2022-09-16T01:37:56.341271",
     "status": "completed"
    },
    "tags": []
   },
   "source": [
    "## 2. Loading the data 😋"
   ]
  },
  {
   "cell_type": "code",
   "execution_count": 2,
   "id": "ca97911f",
   "metadata": {
    "execution": {
     "iopub.execute_input": "2022-09-16T01:37:56.372334Z",
     "iopub.status.busy": "2022-09-16T01:37:56.371951Z",
     "iopub.status.idle": "2022-09-16T01:37:56.452063Z",
     "shell.execute_reply": "2022-09-16T01:37:56.450835Z"
    },
    "papermill": {
     "duration": 0.093961,
     "end_time": "2022-09-16T01:37:56.454723",
     "exception": false,
     "start_time": "2022-09-16T01:37:56.360762",
     "status": "completed"
    },
    "tags": []
   },
   "outputs": [],
   "source": [
    "df_train = pd.read_csv('../input/home-data-for-ml-course/train.csv')\n",
    "df_test = pd.read_csv('../input/home-data-for-ml-course/test.csv')"
   ]
  },
  {
   "cell_type": "code",
   "execution_count": 3,
   "id": "ee46ffed",
   "metadata": {
    "execution": {
     "iopub.execute_input": "2022-09-16T01:37:56.476112Z",
     "iopub.status.busy": "2022-09-16T01:37:56.475329Z",
     "iopub.status.idle": "2022-09-16T01:37:56.511426Z",
     "shell.execute_reply": "2022-09-16T01:37:56.510256Z"
    },
    "papermill": {
     "duration": 0.049319,
     "end_time": "2022-09-16T01:37:56.513743",
     "exception": false,
     "start_time": "2022-09-16T01:37:56.464424",
     "status": "completed"
    },
    "tags": []
   },
   "outputs": [
    {
     "data": {
      "text/html": [
       "<div>\n",
       "<style scoped>\n",
       "    .dataframe tbody tr th:only-of-type {\n",
       "        vertical-align: middle;\n",
       "    }\n",
       "\n",
       "    .dataframe tbody tr th {\n",
       "        vertical-align: top;\n",
       "    }\n",
       "\n",
       "    .dataframe thead th {\n",
       "        text-align: right;\n",
       "    }\n",
       "</style>\n",
       "<table border=\"1\" class=\"dataframe\">\n",
       "  <thead>\n",
       "    <tr style=\"text-align: right;\">\n",
       "      <th></th>\n",
       "      <th>Id</th>\n",
       "      <th>MSSubClass</th>\n",
       "      <th>MSZoning</th>\n",
       "      <th>LotFrontage</th>\n",
       "      <th>LotArea</th>\n",
       "      <th>Street</th>\n",
       "      <th>Alley</th>\n",
       "      <th>LotShape</th>\n",
       "      <th>LandContour</th>\n",
       "      <th>Utilities</th>\n",
       "      <th>...</th>\n",
       "      <th>PoolArea</th>\n",
       "      <th>PoolQC</th>\n",
       "      <th>Fence</th>\n",
       "      <th>MiscFeature</th>\n",
       "      <th>MiscVal</th>\n",
       "      <th>MoSold</th>\n",
       "      <th>YrSold</th>\n",
       "      <th>SaleType</th>\n",
       "      <th>SaleCondition</th>\n",
       "      <th>SalePrice</th>\n",
       "    </tr>\n",
       "  </thead>\n",
       "  <tbody>\n",
       "    <tr>\n",
       "      <th>0</th>\n",
       "      <td>1</td>\n",
       "      <td>60</td>\n",
       "      <td>RL</td>\n",
       "      <td>65.0</td>\n",
       "      <td>8450</td>\n",
       "      <td>Pave</td>\n",
       "      <td>NaN</td>\n",
       "      <td>Reg</td>\n",
       "      <td>Lvl</td>\n",
       "      <td>AllPub</td>\n",
       "      <td>...</td>\n",
       "      <td>0</td>\n",
       "      <td>NaN</td>\n",
       "      <td>NaN</td>\n",
       "      <td>NaN</td>\n",
       "      <td>0</td>\n",
       "      <td>2</td>\n",
       "      <td>2008</td>\n",
       "      <td>WD</td>\n",
       "      <td>Normal</td>\n",
       "      <td>208500</td>\n",
       "    </tr>\n",
       "    <tr>\n",
       "      <th>1</th>\n",
       "      <td>2</td>\n",
       "      <td>20</td>\n",
       "      <td>RL</td>\n",
       "      <td>80.0</td>\n",
       "      <td>9600</td>\n",
       "      <td>Pave</td>\n",
       "      <td>NaN</td>\n",
       "      <td>Reg</td>\n",
       "      <td>Lvl</td>\n",
       "      <td>AllPub</td>\n",
       "      <td>...</td>\n",
       "      <td>0</td>\n",
       "      <td>NaN</td>\n",
       "      <td>NaN</td>\n",
       "      <td>NaN</td>\n",
       "      <td>0</td>\n",
       "      <td>5</td>\n",
       "      <td>2007</td>\n",
       "      <td>WD</td>\n",
       "      <td>Normal</td>\n",
       "      <td>181500</td>\n",
       "    </tr>\n",
       "    <tr>\n",
       "      <th>2</th>\n",
       "      <td>3</td>\n",
       "      <td>60</td>\n",
       "      <td>RL</td>\n",
       "      <td>68.0</td>\n",
       "      <td>11250</td>\n",
       "      <td>Pave</td>\n",
       "      <td>NaN</td>\n",
       "      <td>IR1</td>\n",
       "      <td>Lvl</td>\n",
       "      <td>AllPub</td>\n",
       "      <td>...</td>\n",
       "      <td>0</td>\n",
       "      <td>NaN</td>\n",
       "      <td>NaN</td>\n",
       "      <td>NaN</td>\n",
       "      <td>0</td>\n",
       "      <td>9</td>\n",
       "      <td>2008</td>\n",
       "      <td>WD</td>\n",
       "      <td>Normal</td>\n",
       "      <td>223500</td>\n",
       "    </tr>\n",
       "    <tr>\n",
       "      <th>3</th>\n",
       "      <td>4</td>\n",
       "      <td>70</td>\n",
       "      <td>RL</td>\n",
       "      <td>60.0</td>\n",
       "      <td>9550</td>\n",
       "      <td>Pave</td>\n",
       "      <td>NaN</td>\n",
       "      <td>IR1</td>\n",
       "      <td>Lvl</td>\n",
       "      <td>AllPub</td>\n",
       "      <td>...</td>\n",
       "      <td>0</td>\n",
       "      <td>NaN</td>\n",
       "      <td>NaN</td>\n",
       "      <td>NaN</td>\n",
       "      <td>0</td>\n",
       "      <td>2</td>\n",
       "      <td>2006</td>\n",
       "      <td>WD</td>\n",
       "      <td>Abnorml</td>\n",
       "      <td>140000</td>\n",
       "    </tr>\n",
       "    <tr>\n",
       "      <th>4</th>\n",
       "      <td>5</td>\n",
       "      <td>60</td>\n",
       "      <td>RL</td>\n",
       "      <td>84.0</td>\n",
       "      <td>14260</td>\n",
       "      <td>Pave</td>\n",
       "      <td>NaN</td>\n",
       "      <td>IR1</td>\n",
       "      <td>Lvl</td>\n",
       "      <td>AllPub</td>\n",
       "      <td>...</td>\n",
       "      <td>0</td>\n",
       "      <td>NaN</td>\n",
       "      <td>NaN</td>\n",
       "      <td>NaN</td>\n",
       "      <td>0</td>\n",
       "      <td>12</td>\n",
       "      <td>2008</td>\n",
       "      <td>WD</td>\n",
       "      <td>Normal</td>\n",
       "      <td>250000</td>\n",
       "    </tr>\n",
       "  </tbody>\n",
       "</table>\n",
       "<p>5 rows × 81 columns</p>\n",
       "</div>"
      ],
      "text/plain": [
       "   Id  MSSubClass MSZoning  LotFrontage  LotArea Street Alley LotShape  \\\n",
       "0   1          60       RL         65.0     8450   Pave   NaN      Reg   \n",
       "1   2          20       RL         80.0     9600   Pave   NaN      Reg   \n",
       "2   3          60       RL         68.0    11250   Pave   NaN      IR1   \n",
       "3   4          70       RL         60.0     9550   Pave   NaN      IR1   \n",
       "4   5          60       RL         84.0    14260   Pave   NaN      IR1   \n",
       "\n",
       "  LandContour Utilities  ... PoolArea PoolQC Fence MiscFeature MiscVal MoSold  \\\n",
       "0         Lvl    AllPub  ...        0    NaN   NaN         NaN       0      2   \n",
       "1         Lvl    AllPub  ...        0    NaN   NaN         NaN       0      5   \n",
       "2         Lvl    AllPub  ...        0    NaN   NaN         NaN       0      9   \n",
       "3         Lvl    AllPub  ...        0    NaN   NaN         NaN       0      2   \n",
       "4         Lvl    AllPub  ...        0    NaN   NaN         NaN       0     12   \n",
       "\n",
       "  YrSold  SaleType  SaleCondition  SalePrice  \n",
       "0   2008        WD         Normal     208500  \n",
       "1   2007        WD         Normal     181500  \n",
       "2   2008        WD         Normal     223500  \n",
       "3   2006        WD        Abnorml     140000  \n",
       "4   2008        WD         Normal     250000  \n",
       "\n",
       "[5 rows x 81 columns]"
      ]
     },
     "execution_count": 3,
     "metadata": {},
     "output_type": "execute_result"
    }
   ],
   "source": [
    "df_train.head()"
   ]
  },
  {
   "cell_type": "markdown",
   "id": "bc6c7be6",
   "metadata": {
    "papermill": {
     "duration": 0.009457,
     "end_time": "2022-09-16T01:37:56.533035",
     "exception": false,
     "start_time": "2022-09-16T01:37:56.523578",
     "status": "completed"
    },
    "tags": []
   },
   "source": [
    "## 3. Let's explore!!! 🤠"
   ]
  },
  {
   "cell_type": "code",
   "execution_count": 4,
   "id": "89a57b8c",
   "metadata": {
    "execution": {
     "iopub.execute_input": "2022-09-16T01:37:56.554418Z",
     "iopub.status.busy": "2022-09-16T01:37:56.553993Z",
     "iopub.status.idle": "2022-09-16T01:37:56.561140Z",
     "shell.execute_reply": "2022-09-16T01:37:56.559657Z"
    },
    "papermill": {
     "duration": 0.022242,
     "end_time": "2022-09-16T01:37:56.564910",
     "exception": false,
     "start_time": "2022-09-16T01:37:56.542668",
     "status": "completed"
    },
    "tags": []
   },
   "outputs": [
    {
     "name": "stdout",
     "output_type": "stream",
     "text": [
      "The training data has 1460 rows and 81 columns\n",
      "The validation data has 1459 rows and 80 columns\n"
     ]
    }
   ],
   "source": [
    "r,c = df_train.shape\n",
    "print('The training data has {} rows and {} columns'.format(r,c))\n",
    "r,c = df_test.shape\n",
    "print('The validation data has {} rows and {} columns'.format(r,c))"
   ]
  },
  {
   "cell_type": "code",
   "execution_count": 5,
   "id": "a4ef0f71",
   "metadata": {
    "execution": {
     "iopub.execute_input": "2022-09-16T01:37:56.587303Z",
     "iopub.status.busy": "2022-09-16T01:37:56.586306Z",
     "iopub.status.idle": "2022-09-16T01:37:56.618165Z",
     "shell.execute_reply": "2022-09-16T01:37:56.616979Z"
    },
    "papermill": {
     "duration": 0.046042,
     "end_time": "2022-09-16T01:37:56.621276",
     "exception": false,
     "start_time": "2022-09-16T01:37:56.575234",
     "status": "completed"
    },
    "tags": []
   },
   "outputs": [
    {
     "name": "stdout",
     "output_type": "stream",
     "text": [
      "<class 'pandas.core.frame.DataFrame'>\n",
      "RangeIndex: 1460 entries, 0 to 1459\n",
      "Data columns (total 81 columns):\n",
      " #   Column         Non-Null Count  Dtype  \n",
      "---  ------         --------------  -----  \n",
      " 0   Id             1460 non-null   int64  \n",
      " 1   MSSubClass     1460 non-null   int64  \n",
      " 2   MSZoning       1460 non-null   object \n",
      " 3   LotFrontage    1201 non-null   float64\n",
      " 4   LotArea        1460 non-null   int64  \n",
      " 5   Street         1460 non-null   object \n",
      " 6   Alley          91 non-null     object \n",
      " 7   LotShape       1460 non-null   object \n",
      " 8   LandContour    1460 non-null   object \n",
      " 9   Utilities      1460 non-null   object \n",
      " 10  LotConfig      1460 non-null   object \n",
      " 11  LandSlope      1460 non-null   object \n",
      " 12  Neighborhood   1460 non-null   object \n",
      " 13  Condition1     1460 non-null   object \n",
      " 14  Condition2     1460 non-null   object \n",
      " 15  BldgType       1460 non-null   object \n",
      " 16  HouseStyle     1460 non-null   object \n",
      " 17  OverallQual    1460 non-null   int64  \n",
      " 18  OverallCond    1460 non-null   int64  \n",
      " 19  YearBuilt      1460 non-null   int64  \n",
      " 20  YearRemodAdd   1460 non-null   int64  \n",
      " 21  RoofStyle      1460 non-null   object \n",
      " 22  RoofMatl       1460 non-null   object \n",
      " 23  Exterior1st    1460 non-null   object \n",
      " 24  Exterior2nd    1460 non-null   object \n",
      " 25  MasVnrType     1452 non-null   object \n",
      " 26  MasVnrArea     1452 non-null   float64\n",
      " 27  ExterQual      1460 non-null   object \n",
      " 28  ExterCond      1460 non-null   object \n",
      " 29  Foundation     1460 non-null   object \n",
      " 30  BsmtQual       1423 non-null   object \n",
      " 31  BsmtCond       1423 non-null   object \n",
      " 32  BsmtExposure   1422 non-null   object \n",
      " 33  BsmtFinType1   1423 non-null   object \n",
      " 34  BsmtFinSF1     1460 non-null   int64  \n",
      " 35  BsmtFinType2   1422 non-null   object \n",
      " 36  BsmtFinSF2     1460 non-null   int64  \n",
      " 37  BsmtUnfSF      1460 non-null   int64  \n",
      " 38  TotalBsmtSF    1460 non-null   int64  \n",
      " 39  Heating        1460 non-null   object \n",
      " 40  HeatingQC      1460 non-null   object \n",
      " 41  CentralAir     1460 non-null   object \n",
      " 42  Electrical     1459 non-null   object \n",
      " 43  1stFlrSF       1460 non-null   int64  \n",
      " 44  2ndFlrSF       1460 non-null   int64  \n",
      " 45  LowQualFinSF   1460 non-null   int64  \n",
      " 46  GrLivArea      1460 non-null   int64  \n",
      " 47  BsmtFullBath   1460 non-null   int64  \n",
      " 48  BsmtHalfBath   1460 non-null   int64  \n",
      " 49  FullBath       1460 non-null   int64  \n",
      " 50  HalfBath       1460 non-null   int64  \n",
      " 51  BedroomAbvGr   1460 non-null   int64  \n",
      " 52  KitchenAbvGr   1460 non-null   int64  \n",
      " 53  KitchenQual    1460 non-null   object \n",
      " 54  TotRmsAbvGrd   1460 non-null   int64  \n",
      " 55  Functional     1460 non-null   object \n",
      " 56  Fireplaces     1460 non-null   int64  \n",
      " 57  FireplaceQu    770 non-null    object \n",
      " 58  GarageType     1379 non-null   object \n",
      " 59  GarageYrBlt    1379 non-null   float64\n",
      " 60  GarageFinish   1379 non-null   object \n",
      " 61  GarageCars     1460 non-null   int64  \n",
      " 62  GarageArea     1460 non-null   int64  \n",
      " 63  GarageQual     1379 non-null   object \n",
      " 64  GarageCond     1379 non-null   object \n",
      " 65  PavedDrive     1460 non-null   object \n",
      " 66  WoodDeckSF     1460 non-null   int64  \n",
      " 67  OpenPorchSF    1460 non-null   int64  \n",
      " 68  EnclosedPorch  1460 non-null   int64  \n",
      " 69  3SsnPorch      1460 non-null   int64  \n",
      " 70  ScreenPorch    1460 non-null   int64  \n",
      " 71  PoolArea       1460 non-null   int64  \n",
      " 72  PoolQC         7 non-null      object \n",
      " 73  Fence          281 non-null    object \n",
      " 74  MiscFeature    54 non-null     object \n",
      " 75  MiscVal        1460 non-null   int64  \n",
      " 76  MoSold         1460 non-null   int64  \n",
      " 77  YrSold         1460 non-null   int64  \n",
      " 78  SaleType       1460 non-null   object \n",
      " 79  SaleCondition  1460 non-null   object \n",
      " 80  SalePrice      1460 non-null   int64  \n",
      "dtypes: float64(3), int64(35), object(43)\n",
      "memory usage: 924.0+ KB\n"
     ]
    }
   ],
   "source": [
    "df_train.info()"
   ]
  },
  {
   "cell_type": "markdown",
   "id": "7a920adc",
   "metadata": {
    "papermill": {
     "duration": 0.009782,
     "end_time": "2022-09-16T01:37:56.641172",
     "exception": false,
     "start_time": "2022-09-16T01:37:56.631390",
     "status": "completed"
    },
    "tags": []
   },
   "source": [
    "**BRUH! Its too much. Let's solve the issue.**"
   ]
  },
  {
   "cell_type": "code",
   "execution_count": 6,
   "id": "01468e71",
   "metadata": {
    "execution": {
     "iopub.execute_input": "2022-09-16T01:37:56.663515Z",
     "iopub.status.busy": "2022-09-16T01:37:56.662796Z",
     "iopub.status.idle": "2022-09-16T01:37:59.171058Z",
     "shell.execute_reply": "2022-09-16T01:37:59.170032Z"
    },
    "papermill": {
     "duration": 2.522337,
     "end_time": "2022-09-16T01:37:59.173517",
     "exception": false,
     "start_time": "2022-09-16T01:37:56.651180",
     "status": "completed"
    },
    "tags": []
   },
   "outputs": [
    {
     "data": {
      "image/png": "[encoded data removed]",
      "text/plain": [
       "<Figure size 1728x576 with 1 Axes>"
      ]
     },
     "metadata": {},
     "output_type": "display_data"
    }
   ],
   "source": [
    "plt.figure(figsize=(24,8))\n",
    "# columns with the most null values\n",
    "cols_with_null=df_train.isnull().sum().sort_values(ascending=False)\n",
    "# Let's visualize these columns\n",
    "sns.barplot(x=cols_with_null.index,y=cols_with_null)\n",
    "plt.xticks(rotation=90)\n",
    "plt.show;"
   ]
  },
  {
   "cell_type": "code",
   "execution_count": 7,
   "id": "5975ac64",
   "metadata": {
    "execution": {
     "iopub.execute_input": "2022-09-16T01:37:59.199482Z",
     "iopub.status.busy": "2022-09-16T01:37:59.198740Z",
     "iopub.status.idle": "2022-09-16T01:37:59.206490Z",
     "shell.execute_reply": "2022-09-16T01:37:59.205440Z"
    },
    "papermill": {
     "duration": 0.023136,
     "end_time": "2022-09-16T01:37:59.208743",
     "exception": false,
     "start_time": "2022-09-16T01:37:59.185607",
     "status": "completed"
    },
    "tags": []
   },
   "outputs": [
    {
     "data": {
      "text/plain": [
       "PoolQC          1453\n",
       "MiscFeature     1406\n",
       "Alley           1369\n",
       "Fence           1179\n",
       "FireplaceQu      690\n",
       "LotFrontage      259\n",
       "GarageYrBlt       81\n",
       "GarageCond        81\n",
       "GarageType        81\n",
       "GarageFinish      81\n",
       "dtype: int64"
      ]
     },
     "execution_count": 7,
     "metadata": {},
     "output_type": "execute_result"
    }
   ],
   "source": [
    "cols_with_null.head(10)"
   ]
  },
  {
   "cell_type": "code",
   "execution_count": 8,
   "id": "6169432a",
   "metadata": {
    "execution": {
     "iopub.execute_input": "2022-09-16T01:37:59.233793Z",
     "iopub.status.busy": "2022-09-16T01:37:59.233144Z",
     "iopub.status.idle": "2022-09-16T01:37:59.237287Z",
     "shell.execute_reply": "2022-09-16T01:37:59.236413Z"
    },
    "papermill": {
     "duration": 0.019422,
     "end_time": "2022-09-16T01:37:59.239633",
     "exception": false,
     "start_time": "2022-09-16T01:37:59.220211",
     "status": "completed"
    },
    "tags": []
   },
   "outputs": [],
   "source": [
    "#cols_to_drop=(cols_with_null.head(6).index).tolist()\n",
    "#df_train.drop(cols_to_drop,axis=1,inplace=True)\n",
    "#df_test.drop(cols_to_drop,axis=1,inplace=True)\n",
    "#df_train.shape"
   ]
  },
  {
   "cell_type": "code",
   "execution_count": 9,
   "id": "dbd4e48a",
   "metadata": {
    "execution": {
     "iopub.execute_input": "2022-09-16T01:37:59.264959Z",
     "iopub.status.busy": "2022-09-16T01:37:59.264260Z",
     "iopub.status.idle": "2022-09-16T01:37:59.270773Z",
     "shell.execute_reply": "2022-09-16T01:37:59.269973Z"
    },
    "papermill": {
     "duration": 0.021903,
     "end_time": "2022-09-16T01:37:59.273219",
     "exception": false,
     "start_time": "2022-09-16T01:37:59.251316",
     "status": "completed"
    },
    "tags": []
   },
   "outputs": [
    {
     "data": {
      "text/plain": [
       "0"
      ]
     },
     "execution_count": 9,
     "metadata": {},
     "output_type": "execute_result"
    }
   ],
   "source": [
    "df_train['SalePrice'].isnull().sum()"
   ]
  },
  {
   "cell_type": "code",
   "execution_count": 10,
   "id": "3e014b20",
   "metadata": {
    "execution": {
     "iopub.execute_input": "2022-09-16T01:37:59.298972Z",
     "iopub.status.busy": "2022-09-16T01:37:59.298262Z",
     "iopub.status.idle": "2022-09-16T01:37:59.322202Z",
     "shell.execute_reply": "2022-09-16T01:37:59.321299Z"
    },
    "papermill": {
     "duration": 0.039691,
     "end_time": "2022-09-16T01:37:59.324431",
     "exception": false,
     "start_time": "2022-09-16T01:37:59.284740",
     "status": "completed"
    },
    "tags": []
   },
   "outputs": [
    {
     "data": {
      "text/html": [
       "<div>\n",
       "<style scoped>\n",
       "    .dataframe tbody tr th:only-of-type {\n",
       "        vertical-align: middle;\n",
       "    }\n",
       "\n",
       "    .dataframe tbody tr th {\n",
       "        vertical-align: top;\n",
       "    }\n",
       "\n",
       "    .dataframe thead th {\n",
       "        text-align: right;\n",
       "    }\n",
       "</style>\n",
       "<table border=\"1\" class=\"dataframe\">\n",
       "  <thead>\n",
       "    <tr style=\"text-align: right;\">\n",
       "      <th></th>\n",
       "      <th>Id</th>\n",
       "      <th>MSSubClass</th>\n",
       "      <th>MSZoning</th>\n",
       "      <th>LotFrontage</th>\n",
       "      <th>LotArea</th>\n",
       "      <th>Street</th>\n",
       "      <th>Alley</th>\n",
       "      <th>LotShape</th>\n",
       "      <th>LandContour</th>\n",
       "      <th>Utilities</th>\n",
       "      <th>...</th>\n",
       "      <th>PoolArea</th>\n",
       "      <th>PoolQC</th>\n",
       "      <th>Fence</th>\n",
       "      <th>MiscFeature</th>\n",
       "      <th>MiscVal</th>\n",
       "      <th>MoSold</th>\n",
       "      <th>YrSold</th>\n",
       "      <th>SaleType</th>\n",
       "      <th>SaleCondition</th>\n",
       "      <th>SalePrice</th>\n",
       "    </tr>\n",
       "  </thead>\n",
       "  <tbody>\n",
       "    <tr>\n",
       "      <th>0</th>\n",
       "      <td>1</td>\n",
       "      <td>60</td>\n",
       "      <td>RL</td>\n",
       "      <td>65.0</td>\n",
       "      <td>8450</td>\n",
       "      <td>Pave</td>\n",
       "      <td>NaN</td>\n",
       "      <td>Reg</td>\n",
       "      <td>Lvl</td>\n",
       "      <td>AllPub</td>\n",
       "      <td>...</td>\n",
       "      <td>0</td>\n",
       "      <td>NaN</td>\n",
       "      <td>NaN</td>\n",
       "      <td>NaN</td>\n",
       "      <td>0</td>\n",
       "      <td>2</td>\n",
       "      <td>2008</td>\n",
       "      <td>WD</td>\n",
       "      <td>Normal</td>\n",
       "      <td>208500</td>\n",
       "    </tr>\n",
       "    <tr>\n",
       "      <th>1</th>\n",
       "      <td>2</td>\n",
       "      <td>20</td>\n",
       "      <td>RL</td>\n",
       "      <td>80.0</td>\n",
       "      <td>9600</td>\n",
       "      <td>Pave</td>\n",
       "      <td>NaN</td>\n",
       "      <td>Reg</td>\n",
       "      <td>Lvl</td>\n",
       "      <td>AllPub</td>\n",
       "      <td>...</td>\n",
       "      <td>0</td>\n",
       "      <td>NaN</td>\n",
       "      <td>NaN</td>\n",
       "      <td>NaN</td>\n",
       "      <td>0</td>\n",
       "      <td>5</td>\n",
       "      <td>2007</td>\n",
       "      <td>WD</td>\n",
       "      <td>Normal</td>\n",
       "      <td>181500</td>\n",
       "    </tr>\n",
       "    <tr>\n",
       "      <th>2</th>\n",
       "      <td>3</td>\n",
       "      <td>60</td>\n",
       "      <td>RL</td>\n",
       "      <td>68.0</td>\n",
       "      <td>11250</td>\n",
       "      <td>Pave</td>\n",
       "      <td>NaN</td>\n",
       "      <td>IR1</td>\n",
       "      <td>Lvl</td>\n",
       "      <td>AllPub</td>\n",
       "      <td>...</td>\n",
       "      <td>0</td>\n",
       "      <td>NaN</td>\n",
       "      <td>NaN</td>\n",
       "      <td>NaN</td>\n",
       "      <td>0</td>\n",
       "      <td>9</td>\n",
       "      <td>2008</td>\n",
       "      <td>WD</td>\n",
       "      <td>Normal</td>\n",
       "      <td>223500</td>\n",
       "    </tr>\n",
       "    <tr>\n",
       "      <th>3</th>\n",
       "      <td>4</td>\n",
       "      <td>70</td>\n",
       "      <td>RL</td>\n",
       "      <td>60.0</td>\n",
       "      <td>9550</td>\n",
       "      <td>Pave</td>\n",
       "      <td>NaN</td>\n",
       "      <td>IR1</td>\n",
       "      <td>Lvl</td>\n",
       "      <td>AllPub</td>\n",
       "      <td>...</td>\n",
       "      <td>0</td>\n",
       "      <td>NaN</td>\n",
       "      <td>NaN</td>\n",
       "      <td>NaN</td>\n",
       "      <td>0</td>\n",
       "      <td>2</td>\n",
       "      <td>2006</td>\n",
       "      <td>WD</td>\n",
       "      <td>Abnorml</td>\n",
       "      <td>140000</td>\n",
       "    </tr>\n",
       "    <tr>\n",
       "      <th>4</th>\n",
       "      <td>5</td>\n",
       "      <td>60</td>\n",
       "      <td>RL</td>\n",
       "      <td>84.0</td>\n",
       "      <td>14260</td>\n",
       "      <td>Pave</td>\n",
       "      <td>NaN</td>\n",
       "      <td>IR1</td>\n",
       "      <td>Lvl</td>\n",
       "      <td>AllPub</td>\n",
       "      <td>...</td>\n",
       "      <td>0</td>\n",
       "      <td>NaN</td>\n",
       "      <td>NaN</td>\n",
       "      <td>NaN</td>\n",
       "      <td>0</td>\n",
       "      <td>12</td>\n",
       "      <td>2008</td>\n",
       "      <td>WD</td>\n",
       "      <td>Normal</td>\n",
       "      <td>250000</td>\n",
       "    </tr>\n",
       "  </tbody>\n",
       "</table>\n",
       "<p>5 rows × 81 columns</p>\n",
       "</div>"
      ],
      "text/plain": [
       "   Id  MSSubClass MSZoning  LotFrontage  LotArea Street Alley LotShape  \\\n",
       "0   1          60       RL         65.0     8450   Pave   NaN      Reg   \n",
       "1   2          20       RL         80.0     9600   Pave   NaN      Reg   \n",
       "2   3          60       RL         68.0    11250   Pave   NaN      IR1   \n",
       "3   4          70       RL         60.0     9550   Pave   NaN      IR1   \n",
       "4   5          60       RL         84.0    14260   Pave   NaN      IR1   \n",
       "\n",
       "  LandContour Utilities  ... PoolArea PoolQC Fence MiscFeature MiscVal MoSold  \\\n",
       "0         Lvl    AllPub  ...        0    NaN   NaN         NaN       0      2   \n",
       "1         Lvl    AllPub  ...        0    NaN   NaN         NaN       0      5   \n",
       "2         Lvl    AllPub  ...        0    NaN   NaN         NaN       0      9   \n",
       "3         Lvl    AllPub  ...        0    NaN   NaN         NaN       0      2   \n",
       "4         Lvl    AllPub  ...        0    NaN   NaN         NaN       0     12   \n",
       "\n",
       "  YrSold  SaleType  SaleCondition  SalePrice  \n",
       "0   2008        WD         Normal     208500  \n",
       "1   2007        WD         Normal     181500  \n",
       "2   2008        WD         Normal     223500  \n",
       "3   2006        WD        Abnorml     140000  \n",
       "4   2008        WD         Normal     250000  \n",
       "\n",
       "[5 rows x 81 columns]"
      ]
     },
     "execution_count": 10,
     "metadata": {},
     "output_type": "execute_result"
    }
   ],
   "source": [
    "df_train.head()"
   ]
  },
  {
   "cell_type": "code",
   "execution_count": 11,
   "id": "c67c4e6c",
   "metadata": {
    "execution": {
     "iopub.execute_input": "2022-09-16T01:37:59.350108Z",
     "iopub.status.busy": "2022-09-16T01:37:59.349662Z",
     "iopub.status.idle": "2022-09-16T01:37:59.457126Z",
     "shell.execute_reply": "2022-09-16T01:37:59.455951Z"
    },
    "papermill": {
     "duration": 0.12368,
     "end_time": "2022-09-16T01:37:59.459913",
     "exception": false,
     "start_time": "2022-09-16T01:37:59.336233",
     "status": "completed"
    },
    "tags": []
   },
   "outputs": [
    {
     "data": {
      "text/html": [
       "<div>\n",
       "<style scoped>\n",
       "    .dataframe tbody tr th:only-of-type {\n",
       "        vertical-align: middle;\n",
       "    }\n",
       "\n",
       "    .dataframe tbody tr th {\n",
       "        vertical-align: top;\n",
       "    }\n",
       "\n",
       "    .dataframe thead th {\n",
       "        text-align: right;\n",
       "    }\n",
       "</style>\n",
       "<table border=\"1\" class=\"dataframe\">\n",
       "  <thead>\n",
       "    <tr style=\"text-align: right;\">\n",
       "      <th></th>\n",
       "      <th>Id</th>\n",
       "      <th>MSSubClass</th>\n",
       "      <th>LotFrontage</th>\n",
       "      <th>LotArea</th>\n",
       "      <th>OverallQual</th>\n",
       "      <th>OverallCond</th>\n",
       "      <th>YearBuilt</th>\n",
       "      <th>YearRemodAdd</th>\n",
       "      <th>MasVnrArea</th>\n",
       "      <th>BsmtFinSF1</th>\n",
       "      <th>...</th>\n",
       "      <th>WoodDeckSF</th>\n",
       "      <th>OpenPorchSF</th>\n",
       "      <th>EnclosedPorch</th>\n",
       "      <th>3SsnPorch</th>\n",
       "      <th>ScreenPorch</th>\n",
       "      <th>PoolArea</th>\n",
       "      <th>MiscVal</th>\n",
       "      <th>MoSold</th>\n",
       "      <th>YrSold</th>\n",
       "      <th>SalePrice</th>\n",
       "    </tr>\n",
       "  </thead>\n",
       "  <tbody>\n",
       "    <tr>\n",
       "      <th>count</th>\n",
       "      <td>1460.000000</td>\n",
       "      <td>1460.000000</td>\n",
       "      <td>1201.000000</td>\n",
       "      <td>1460.000000</td>\n",
       "      <td>1460.000000</td>\n",
       "      <td>1460.000000</td>\n",
       "      <td>1460.000000</td>\n",
       "      <td>1460.000000</td>\n",
       "      <td>1452.000000</td>\n",
       "      <td>1460.000000</td>\n",
       "      <td>...</td>\n",
       "      <td>1460.000000</td>\n",
       "      <td>1460.000000</td>\n",
       "      <td>1460.000000</td>\n",
       "      <td>1460.000000</td>\n",
       "      <td>1460.000000</td>\n",
       "      <td>1460.000000</td>\n",
       "      <td>1460.000000</td>\n",
       "      <td>1460.000000</td>\n",
       "      <td>1460.000000</td>\n",
       "      <td>1460.000000</td>\n",
       "    </tr>\n",
       "    <tr>\n",
       "      <th>mean</th>\n",
       "      <td>730.500000</td>\n",
       "      <td>56.897260</td>\n",
       "      <td>70.049958</td>\n",
       "      <td>10516.828082</td>\n",
       "      <td>6.099315</td>\n",
       "      <td>5.575342</td>\n",
       "      <td>1971.267808</td>\n",
       "      <td>1984.865753</td>\n",
       "      <td>103.685262</td>\n",
       "      <td>443.639726</td>\n",
       "      <td>...</td>\n",
       "      <td>94.244521</td>\n",
       "      <td>46.660274</td>\n",
       "      <td>21.954110</td>\n",
       "      <td>3.409589</td>\n",
       "      <td>15.060959</td>\n",
       "      <td>2.758904</td>\n",
       "      <td>43.489041</td>\n",
       "      <td>6.321918</td>\n",
       "      <td>2007.815753</td>\n",
       "      <td>180921.195890</td>\n",
       "    </tr>\n",
       "    <tr>\n",
       "      <th>std</th>\n",
       "      <td>421.610009</td>\n",
       "      <td>42.300571</td>\n",
       "      <td>24.284752</td>\n",
       "      <td>9981.264932</td>\n",
       "      <td>1.382997</td>\n",
       "      <td>1.112799</td>\n",
       "      <td>30.202904</td>\n",
       "      <td>20.645407</td>\n",
       "      <td>181.066207</td>\n",
       "      <td>456.098091</td>\n",
       "      <td>...</td>\n",
       "      <td>125.338794</td>\n",
       "      <td>66.256028</td>\n",
       "      <td>61.119149</td>\n",
       "      <td>29.317331</td>\n",
       "      <td>55.757415</td>\n",
       "      <td>40.177307</td>\n",
       "      <td>496.123024</td>\n",
       "      <td>2.703626</td>\n",
       "      <td>1.328095</td>\n",
       "      <td>79442.502883</td>\n",
       "    </tr>\n",
       "    <tr>\n",
       "      <th>min</th>\n",
       "      <td>1.000000</td>\n",
       "      <td>20.000000</td>\n",
       "      <td>21.000000</td>\n",
       "      <td>1300.000000</td>\n",
       "      <td>1.000000</td>\n",
       "      <td>1.000000</td>\n",
       "      <td>1872.000000</td>\n",
       "      <td>1950.000000</td>\n",
       "      <td>0.000000</td>\n",
       "      <td>0.000000</td>\n",
       "      <td>...</td>\n",
       "      <td>0.000000</td>\n",
       "      <td>0.000000</td>\n",
       "      <td>0.000000</td>\n",
       "      <td>0.000000</td>\n",
       "      <td>0.000000</td>\n",
       "      <td>0.000000</td>\n",
       "      <td>0.000000</td>\n",
       "      <td>1.000000</td>\n",
       "      <td>2006.000000</td>\n",
       "      <td>34900.000000</td>\n",
       "    </tr>\n",
       "    <tr>\n",
       "      <th>25%</th>\n",
       "      <td>365.750000</td>\n",
       "      <td>20.000000</td>\n",
       "      <td>59.000000</td>\n",
       "      <td>7553.500000</td>\n",
       "      <td>5.000000</td>\n",
       "      <td>5.000000</td>\n",
       "      <td>1954.000000</td>\n",
       "      <td>1967.000000</td>\n",
       "      <td>0.000000</td>\n",
       "      <td>0.000000</td>\n",
       "      <td>...</td>\n",
       "      <td>0.000000</td>\n",
       "      <td>0.000000</td>\n",
       "      <td>0.000000</td>\n",
       "      <td>0.000000</td>\n",
       "      <td>0.000000</td>\n",
       "      <td>0.000000</td>\n",
       "      <td>0.000000</td>\n",
       "      <td>5.000000</td>\n",
       "      <td>2007.000000</td>\n",
       "      <td>129975.000000</td>\n",
       "    </tr>\n",
       "    <tr>\n",
       "      <th>50%</th>\n",
       "      <td>730.500000</td>\n",
       "      <td>50.000000</td>\n",
       "      <td>69.000000</td>\n",
       "      <td>9478.500000</td>\n",
       "      <td>6.000000</td>\n",
       "      <td>5.000000</td>\n",
       "      <td>1973.000000</td>\n",
       "      <td>1994.000000</td>\n",
       "      <td>0.000000</td>\n",
       "      <td>383.500000</td>\n",
       "      <td>...</td>\n",
       "      <td>0.000000</td>\n",
       "      <td>25.000000</td>\n",
       "      <td>0.000000</td>\n",
       "      <td>0.000000</td>\n",
       "      <td>0.000000</td>\n",
       "      <td>0.000000</td>\n",
       "      <td>0.000000</td>\n",
       "      <td>6.000000</td>\n",
       "      <td>2008.000000</td>\n",
       "      <td>163000.000000</td>\n",
       "    </tr>\n",
       "    <tr>\n",
       "      <th>75%</th>\n",
       "      <td>1095.250000</td>\n",
       "      <td>70.000000</td>\n",
       "      <td>80.000000</td>\n",
       "      <td>11601.500000</td>\n",
       "      <td>7.000000</td>\n",
       "      <td>6.000000</td>\n",
       "      <td>2000.000000</td>\n",
       "      <td>2004.000000</td>\n",
       "      <td>166.000000</td>\n",
       "      <td>712.250000</td>\n",
       "      <td>...</td>\n",
       "      <td>168.000000</td>\n",
       "      <td>68.000000</td>\n",
       "      <td>0.000000</td>\n",
       "      <td>0.000000</td>\n",
       "      <td>0.000000</td>\n",
       "      <td>0.000000</td>\n",
       "      <td>0.000000</td>\n",
       "      <td>8.000000</td>\n",
       "      <td>2009.000000</td>\n",
       "      <td>214000.000000</td>\n",
       "    </tr>\n",
       "    <tr>\n",
       "      <th>max</th>\n",
       "      <td>1460.000000</td>\n",
       "      <td>190.000000</td>\n",
       "      <td>313.000000</td>\n",
       "      <td>215245.000000</td>\n",
       "      <td>10.000000</td>\n",
       "      <td>9.000000</td>\n",
       "      <td>2010.000000</td>\n",
       "      <td>2010.000000</td>\n",
       "      <td>1600.000000</td>\n",
       "      <td>5644.000000</td>\n",
       "      <td>...</td>\n",
       "      <td>857.000000</td>\n",
       "      <td>547.000000</td>\n",
       "      <td>552.000000</td>\n",
       "      <td>508.000000</td>\n",
       "      <td>480.000000</td>\n",
       "      <td>738.000000</td>\n",
       "      <td>15500.000000</td>\n",
       "      <td>12.000000</td>\n",
       "      <td>2010.000000</td>\n",
       "      <td>755000.000000</td>\n",
       "    </tr>\n",
       "  </tbody>\n",
       "</table>\n",
       "<p>8 rows × 38 columns</p>\n",
       "</div>"
      ],
      "text/plain": [
       "                Id   MSSubClass  LotFrontage        LotArea  OverallQual  \\\n",
       "count  1460.000000  1460.000000  1201.000000    1460.000000  1460.000000   \n",
       "mean    730.500000    56.897260    70.049958   10516.828082     6.099315   \n",
       "std     421.610009    42.300571    24.284752    9981.264932     1.382997   \n",
       "min       1.000000    20.000000    21.000000    1300.000000     1.000000   \n",
       "25%     365.750000    20.000000    59.000000    7553.500000     5.000000   \n",
       "50%     730.500000    50.000000    69.000000    9478.500000     6.000000   \n",
       "75%    1095.250000    70.000000    80.000000   11601.500000     7.000000   \n",
       "max    1460.000000   190.000000   313.000000  215245.000000    10.000000   \n",
       "\n",
       "       OverallCond    YearBuilt  YearRemodAdd   MasVnrArea   BsmtFinSF1  ...  \\\n",
       "count  1460.000000  1460.000000   1460.000000  1452.000000  1460.000000  ...   \n",
       "mean      5.575342  1971.267808   1984.865753   103.685262   443.639726  ...   \n",
       "std       1.112799    30.202904     20.645407   181.066207   456.098091  ...   \n",
       "min       1.000000  1872.000000   1950.000000     0.000000     0.000000  ...   \n",
       "25%       5.000000  1954.000000   1967.000000     0.000000     0.000000  ...   \n",
       "50%       5.000000  1973.000000   1994.000000     0.000000   383.500000  ...   \n",
       "75%       6.000000  2000.000000   2004.000000   166.000000   712.250000  ...   \n",
       "max       9.000000  2010.000000   2010.000000  1600.000000  5644.000000  ...   \n",
       "\n",
       "        WoodDeckSF  OpenPorchSF  EnclosedPorch    3SsnPorch  ScreenPorch  \\\n",
       "count  1460.000000  1460.000000    1460.000000  1460.000000  1460.000000   \n",
       "mean     94.244521    46.660274      21.954110     3.409589    15.060959   \n",
       "std     125.338794    66.256028      61.119149    29.317331    55.757415   \n",
       "min       0.000000     0.000000       0.000000     0.000000     0.000000   \n",
       "25%       0.000000     0.000000       0.000000     0.000000     0.000000   \n",
       "50%       0.000000    25.000000       0.000000     0.000000     0.000000   \n",
       "75%     168.000000    68.000000       0.000000     0.000000     0.000000   \n",
       "max     857.000000   547.000000     552.000000   508.000000   480.000000   \n",
       "\n",
       "          PoolArea       MiscVal       MoSold       YrSold      SalePrice  \n",
       "count  1460.000000   1460.000000  1460.000000  1460.000000    1460.000000  \n",
       "mean      2.758904     43.489041     6.321918  2007.815753  180921.195890  \n",
       "std      40.177307    496.123024     2.703626     1.328095   79442.502883  \n",
       "min       0.000000      0.000000     1.000000  2006.000000   34900.000000  \n",
       "25%       0.000000      0.000000     5.000000  2007.000000  129975.000000  \n",
       "50%       0.000000      0.000000     6.000000  2008.000000  163000.000000  \n",
       "75%       0.000000      0.000000     8.000000  2009.000000  214000.000000  \n",
       "max     738.000000  15500.000000    12.000000  2010.000000  755000.000000  \n",
       "\n",
       "[8 rows x 38 columns]"
      ]
     },
     "execution_count": 11,
     "metadata": {},
     "output_type": "execute_result"
    }
   ],
   "source": [
    "df_train.describe()"
   ]
  },
  {
   "cell_type": "markdown",
   "id": "fcd177b2",
   "metadata": {
    "papermill": {
     "duration": 0.011916,
     "end_time": "2022-09-16T01:37:59.484054",
     "exception": false,
     "start_time": "2022-09-16T01:37:59.472138",
     "status": "completed"
    },
    "tags": []
   },
   "source": [
    "### A. Short listing some features"
   ]
  },
  {
   "cell_type": "code",
   "execution_count": 12,
   "id": "078cfc96",
   "metadata": {
    "execution": {
     "iopub.execute_input": "2022-09-16T01:37:59.510218Z",
     "iopub.status.busy": "2022-09-16T01:37:59.509789Z",
     "iopub.status.idle": "2022-09-16T01:37:59.557035Z",
     "shell.execute_reply": "2022-09-16T01:37:59.555656Z"
    },
    "papermill": {
     "duration": 0.063492,
     "end_time": "2022-09-16T01:37:59.559694",
     "exception": false,
     "start_time": "2022-09-16T01:37:59.496202",
     "status": "completed"
    },
    "tags": []
   },
   "outputs": [
    {
     "data": {
      "text/html": [
       "<div>\n",
       "<style scoped>\n",
       "    .dataframe tbody tr th:only-of-type {\n",
       "        vertical-align: middle;\n",
       "    }\n",
       "\n",
       "    .dataframe tbody tr th {\n",
       "        vertical-align: top;\n",
       "    }\n",
       "\n",
       "    .dataframe thead th {\n",
       "        text-align: right;\n",
       "    }\n",
       "</style>\n",
       "<table border=\"1\" class=\"dataframe\">\n",
       "  <thead>\n",
       "    <tr style=\"text-align: right;\">\n",
       "      <th></th>\n",
       "      <th>YearBuilt</th>\n",
       "      <th>LotArea</th>\n",
       "      <th>OverallQual</th>\n",
       "      <th>OverallCond</th>\n",
       "      <th>GrLivArea</th>\n",
       "      <th>1stFlrSF</th>\n",
       "      <th>2ndFlrSF</th>\n",
       "      <th>BedroomAbvGr</th>\n",
       "      <th>OpenPorchSF</th>\n",
       "      <th>PoolArea</th>\n",
       "      <th>SalePrice</th>\n",
       "    </tr>\n",
       "  </thead>\n",
       "  <tbody>\n",
       "    <tr>\n",
       "      <th>count</th>\n",
       "      <td>1460.000000</td>\n",
       "      <td>1460.000000</td>\n",
       "      <td>1460.000000</td>\n",
       "      <td>1460.000000</td>\n",
       "      <td>1460.000000</td>\n",
       "      <td>1460.000000</td>\n",
       "      <td>1460.000000</td>\n",
       "      <td>1460.000000</td>\n",
       "      <td>1460.000000</td>\n",
       "      <td>1460.000000</td>\n",
       "      <td>1460.000000</td>\n",
       "    </tr>\n",
       "    <tr>\n",
       "      <th>mean</th>\n",
       "      <td>1971.267808</td>\n",
       "      <td>10516.828082</td>\n",
       "      <td>6.099315</td>\n",
       "      <td>5.575342</td>\n",
       "      <td>1515.463699</td>\n",
       "      <td>1162.626712</td>\n",
       "      <td>346.992466</td>\n",
       "      <td>2.866438</td>\n",
       "      <td>46.660274</td>\n",
       "      <td>2.758904</td>\n",
       "      <td>180921.195890</td>\n",
       "    </tr>\n",
       "    <tr>\n",
       "      <th>std</th>\n",
       "      <td>30.202904</td>\n",
       "      <td>9981.264932</td>\n",
       "      <td>1.382997</td>\n",
       "      <td>1.112799</td>\n",
       "      <td>525.480383</td>\n",
       "      <td>386.587738</td>\n",
       "      <td>436.528436</td>\n",
       "      <td>0.815778</td>\n",
       "      <td>66.256028</td>\n",
       "      <td>40.177307</td>\n",
       "      <td>79442.502883</td>\n",
       "    </tr>\n",
       "    <tr>\n",
       "      <th>min</th>\n",
       "      <td>1872.000000</td>\n",
       "      <td>1300.000000</td>\n",
       "      <td>1.000000</td>\n",
       "      <td>1.000000</td>\n",
       "      <td>334.000000</td>\n",
       "      <td>334.000000</td>\n",
       "      <td>0.000000</td>\n",
       "      <td>0.000000</td>\n",
       "      <td>0.000000</td>\n",
       "      <td>0.000000</td>\n",
       "      <td>34900.000000</td>\n",
       "    </tr>\n",
       "    <tr>\n",
       "      <th>25%</th>\n",
       "      <td>1954.000000</td>\n",
       "      <td>7553.500000</td>\n",
       "      <td>5.000000</td>\n",
       "      <td>5.000000</td>\n",
       "      <td>1129.500000</td>\n",
       "      <td>882.000000</td>\n",
       "      <td>0.000000</td>\n",
       "      <td>2.000000</td>\n",
       "      <td>0.000000</td>\n",
       "      <td>0.000000</td>\n",
       "      <td>129975.000000</td>\n",
       "    </tr>\n",
       "    <tr>\n",
       "      <th>50%</th>\n",
       "      <td>1973.000000</td>\n",
       "      <td>9478.500000</td>\n",
       "      <td>6.000000</td>\n",
       "      <td>5.000000</td>\n",
       "      <td>1464.000000</td>\n",
       "      <td>1087.000000</td>\n",
       "      <td>0.000000</td>\n",
       "      <td>3.000000</td>\n",
       "      <td>25.000000</td>\n",
       "      <td>0.000000</td>\n",
       "      <td>163000.000000</td>\n",
       "    </tr>\n",
       "    <tr>\n",
       "      <th>75%</th>\n",
       "      <td>2000.000000</td>\n",
       "      <td>11601.500000</td>\n",
       "      <td>7.000000</td>\n",
       "      <td>6.000000</td>\n",
       "      <td>1776.750000</td>\n",
       "      <td>1391.250000</td>\n",
       "      <td>728.000000</td>\n",
       "      <td>3.000000</td>\n",
       "      <td>68.000000</td>\n",
       "      <td>0.000000</td>\n",
       "      <td>214000.000000</td>\n",
       "    </tr>\n",
       "    <tr>\n",
       "      <th>max</th>\n",
       "      <td>2010.000000</td>\n",
       "      <td>215245.000000</td>\n",
       "      <td>10.000000</td>\n",
       "      <td>9.000000</td>\n",
       "      <td>5642.000000</td>\n",
       "      <td>4692.000000</td>\n",
       "      <td>2065.000000</td>\n",
       "      <td>8.000000</td>\n",
       "      <td>547.000000</td>\n",
       "      <td>738.000000</td>\n",
       "      <td>755000.000000</td>\n",
       "    </tr>\n",
       "  </tbody>\n",
       "</table>\n",
       "</div>"
      ],
      "text/plain": [
       "         YearBuilt        LotArea  OverallQual  OverallCond    GrLivArea  \\\n",
       "count  1460.000000    1460.000000  1460.000000  1460.000000  1460.000000   \n",
       "mean   1971.267808   10516.828082     6.099315     5.575342  1515.463699   \n",
       "std      30.202904    9981.264932     1.382997     1.112799   525.480383   \n",
       "min    1872.000000    1300.000000     1.000000     1.000000   334.000000   \n",
       "25%    1954.000000    7553.500000     5.000000     5.000000  1129.500000   \n",
       "50%    1973.000000    9478.500000     6.000000     5.000000  1464.000000   \n",
       "75%    2000.000000   11601.500000     7.000000     6.000000  1776.750000   \n",
       "max    2010.000000  215245.000000    10.000000     9.000000  5642.000000   \n",
       "\n",
       "          1stFlrSF     2ndFlrSF  BedroomAbvGr  OpenPorchSF     PoolArea  \\\n",
       "count  1460.000000  1460.000000   1460.000000  1460.000000  1460.000000   \n",
       "mean   1162.626712   346.992466      2.866438    46.660274     2.758904   \n",
       "std     386.587738   436.528436      0.815778    66.256028    40.177307   \n",
       "min     334.000000     0.000000      0.000000     0.000000     0.000000   \n",
       "25%     882.000000     0.000000      2.000000     0.000000     0.000000   \n",
       "50%    1087.000000     0.000000      3.000000    25.000000     0.000000   \n",
       "75%    1391.250000   728.000000      3.000000    68.000000     0.000000   \n",
       "max    4692.000000  2065.000000      8.000000   547.000000   738.000000   \n",
       "\n",
       "           SalePrice  \n",
       "count    1460.000000  \n",
       "mean   180921.195890  \n",
       "std     79442.502883  \n",
       "min     34900.000000  \n",
       "25%    129975.000000  \n",
       "50%    163000.000000  \n",
       "75%    214000.000000  \n",
       "max    755000.000000  "
      ]
     },
     "execution_count": 12,
     "metadata": {},
     "output_type": "execute_result"
    }
   ],
   "source": [
    "important_features=['YearBuilt','LotArea','OverallQual','OverallCond','GrLivArea','1stFlrSF','2ndFlrSF','BedroomAbvGr','OpenPorchSF','PoolArea','SalePrice']\n",
    "df_train[important_features].describe()"
   ]
  },
  {
   "cell_type": "code",
   "execution_count": 13,
   "id": "2dd4d0d1",
   "metadata": {
    "execution": {
     "iopub.execute_input": "2022-09-16T01:37:59.587520Z",
     "iopub.status.busy": "2022-09-16T01:37:59.586551Z",
     "iopub.status.idle": "2022-09-16T01:38:00.605267Z",
     "shell.execute_reply": "2022-09-16T01:38:00.604361Z"
    },
    "papermill": {
     "duration": 1.035545,
     "end_time": "2022-09-16T01:38:00.608001",
     "exception": false,
     "start_time": "2022-09-16T01:37:59.572456",
     "status": "completed"
    },
    "tags": []
   },
   "outputs": [
    {
     "data": {
      "image/png": "[encoded data removed]",
      "text/plain": [
       "<Figure size 1080x864 with 2 Axes>"
      ]
     },
     "metadata": {},
     "output_type": "display_data"
    }
   ],
   "source": [
    "plt.figure(figsize=(15,12))\n",
    "sns.heatmap(df_train.corr())\n",
    "plt.show()"
   ]
  },
  {
   "cell_type": "markdown",
   "id": "786b7faa",
   "metadata": {
    "papermill": {
     "duration": 0.013924,
     "end_time": "2022-09-16T01:38:00.636808",
     "exception": false,
     "start_time": "2022-09-16T01:38:00.622884",
     "status": "completed"
    },
    "tags": []
   },
   "source": [
    "**Removal of unimportant columns**"
   ]
  },
  {
   "cell_type": "code",
   "execution_count": 14,
   "id": "9034ab27",
   "metadata": {
    "execution": {
     "iopub.execute_input": "2022-09-16T01:38:00.667413Z",
     "iopub.status.busy": "2022-09-16T01:38:00.666672Z",
     "iopub.status.idle": "2022-09-16T01:38:00.671330Z",
     "shell.execute_reply": "2022-09-16T01:38:00.670525Z"
    },
    "papermill": {
     "duration": 0.022497,
     "end_time": "2022-09-16T01:38:00.673511",
     "exception": false,
     "start_time": "2022-09-16T01:38:00.651014",
     "status": "completed"
    },
    "tags": []
   },
   "outputs": [],
   "source": [
    "un_imp=['MSSubClass','OverallCond','BsmtFinSF2','LowQualFinSF','BsmtHalfBath','3SsnPorch','YrSold','MoSold','MiscVal','PoolArea']"
   ]
  },
  {
   "cell_type": "code",
   "execution_count": 15,
   "id": "3b5ab4bf",
   "metadata": {
    "execution": {
     "iopub.execute_input": "2022-09-16T01:38:00.704459Z",
     "iopub.status.busy": "2022-09-16T01:38:00.703422Z",
     "iopub.status.idle": "2022-09-16T01:38:00.708389Z",
     "shell.execute_reply": "2022-09-16T01:38:00.707555Z"
    },
    "papermill": {
     "duration": 0.022646,
     "end_time": "2022-09-16T01:38:00.710490",
     "exception": false,
     "start_time": "2022-09-16T01:38:00.687844",
     "status": "completed"
    },
    "tags": []
   },
   "outputs": [],
   "source": [
    "#df_train.drop(un_imp,axis=1,inplace=True)"
   ]
  },
  {
   "cell_type": "markdown",
   "id": "ec4ceb40",
   "metadata": {
    "papermill": {
     "duration": 0.014181,
     "end_time": "2022-09-16T01:38:00.738726",
     "exception": false,
     "start_time": "2022-09-16T01:38:00.724545",
     "status": "completed"
    },
    "tags": []
   },
   "source": [
    "## 4.OutLier Detection"
   ]
  },
  {
   "cell_type": "code",
   "execution_count": 16,
   "id": "a1a38290",
   "metadata": {
    "execution": {
     "iopub.execute_input": "2022-09-16T01:38:00.770534Z",
     "iopub.status.busy": "2022-09-16T01:38:00.770145Z",
     "iopub.status.idle": "2022-09-16T01:38:02.192157Z",
     "shell.execute_reply": "2022-09-16T01:38:02.190950Z"
    },
    "papermill": {
     "duration": 1.442725,
     "end_time": "2022-09-16T01:38:02.196017",
     "exception": false,
     "start_time": "2022-09-16T01:38:00.753292",
     "status": "completed"
    },
    "tags": []
   },
   "outputs": [
    {
     "data": {
      "image/png": "[encoded data removed]",
      "text/plain": [
       "<Figure size 2016x504 with 3 Axes>"
      ]
     },
     "metadata": {},
     "output_type": "display_data"
    }
   ],
   "source": [
    "fig, ax=plt.subplots(1,3,figsize=(28,7))\n",
    "sns.scatterplot(x=df_train.GrLivArea,y=df_train.SalePrice,size=df_train.BedroomAbvGr,hue=df_train.OverallQual, ax=ax[0])\n",
    "ax[0].set_title(\"Ground Living Area\")\n",
    "sns.scatterplot(x=df_train.LotArea,y=df_train.SalePrice,size=df_train.BedroomAbvGr,hue=df_train.OverallQual, ax=ax[1])\n",
    "ax[1].set_title(\"LOT AREA\")\n",
    "sns.boxplot(x=df_train.SalePrice);\n"
   ]
  },
  {
   "cell_type": "markdown",
   "id": "baaa6d8f",
   "metadata": {
    "papermill": {
     "duration": 0.017042,
     "end_time": "2022-09-16T01:38:02.230670",
     "exception": false,
     "start_time": "2022-09-16T01:38:02.213628",
     "status": "completed"
    },
    "tags": []
   },
   "source": [
    " * Houses with Ground Living Area more than 4000 are outliers.\n",
    " * Houses with Lot Area more than 6000 are Outliers.\n",
    " * Sale Price more than 45000 is affecting our model as it mostly contains outliers."
   ]
  },
  {
   "cell_type": "code",
   "execution_count": 17,
   "id": "2accd846",
   "metadata": {
    "execution": {
     "iopub.execute_input": "2022-09-16T01:38:02.268409Z",
     "iopub.status.busy": "2022-09-16T01:38:02.267166Z",
     "iopub.status.idle": "2022-09-16T01:38:02.770471Z",
     "shell.execute_reply": "2022-09-16T01:38:02.769369Z"
    },
    "papermill": {
     "duration": 0.525248,
     "end_time": "2022-09-16T01:38:02.773477",
     "exception": false,
     "start_time": "2022-09-16T01:38:02.248229",
     "status": "completed"
    },
    "tags": []
   },
   "outputs": [
    {
     "data": {
      "image/png": "[encoded data removed]",
      "text/plain": [
       "<Figure size 360x360 with 1 Axes>"
      ]
     },
     "metadata": {},
     "output_type": "display_data"
    }
   ],
   "source": [
    "sns.catplot(data=df_train, y='SalePrice', x='OverallQual', kind=\"boxen\"); #mutli col bar plot."
   ]
  },
  {
   "cell_type": "code",
   "execution_count": 18,
   "id": "400696a4",
   "metadata": {
    "execution": {
     "iopub.execute_input": "2022-09-16T01:38:02.816690Z",
     "iopub.status.busy": "2022-09-16T01:38:02.815751Z",
     "iopub.status.idle": "2022-09-16T01:38:02.825151Z",
     "shell.execute_reply": "2022-09-16T01:38:02.824248Z"
    },
    "papermill": {
     "duration": 0.031169,
     "end_time": "2022-09-16T01:38:02.827303",
     "exception": false,
     "start_time": "2022-09-16T01:38:02.796134",
     "status": "completed"
    },
    "tags": []
   },
   "outputs": [
    {
     "data": {
      "text/plain": [
       "527331.9149999974"
      ]
     },
     "execution_count": 18,
     "metadata": {},
     "output_type": "execute_result"
    }
   ],
   "source": [
    "df_train['SalePrice'].quantile(0.995)"
   ]
  },
  {
   "cell_type": "code",
   "execution_count": 19,
   "id": "53f16205",
   "metadata": {
    "execution": {
     "iopub.execute_input": "2022-09-16T01:38:02.875637Z",
     "iopub.status.busy": "2022-09-16T01:38:02.874641Z",
     "iopub.status.idle": "2022-09-16T01:38:02.887001Z",
     "shell.execute_reply": "2022-09-16T01:38:02.885845Z"
    },
    "papermill": {
     "duration": 0.037143,
     "end_time": "2022-09-16T01:38:02.889709",
     "exception": false,
     "start_time": "2022-09-16T01:38:02.852566",
     "status": "completed"
    },
    "tags": []
   },
   "outputs": [],
   "source": [
    "rows_2_drop=df_train[df_train['SalePrice']>df_train['SalePrice'].quantile(0.995)].index\n",
    "df_train.drop(rows_2_drop,inplace=True)"
   ]
  },
  {
   "cell_type": "code",
   "execution_count": 20,
   "id": "a00bcbf8",
   "metadata": {
    "execution": {
     "iopub.execute_input": "2022-09-16T01:38:02.931300Z",
     "iopub.status.busy": "2022-09-16T01:38:02.929562Z",
     "iopub.status.idle": "2022-09-16T01:38:02.938629Z",
     "shell.execute_reply": "2022-09-16T01:38:02.937396Z"
    },
    "papermill": {
     "duration": 0.032193,
     "end_time": "2022-09-16T01:38:02.941231",
     "exception": false,
     "start_time": "2022-09-16T01:38:02.909038",
     "status": "completed"
    },
    "tags": []
   },
   "outputs": [
    {
     "data": {
      "text/plain": [
       "(1452, 81)"
      ]
     },
     "execution_count": 20,
     "metadata": {},
     "output_type": "execute_result"
    }
   ],
   "source": [
    "df_train.shape"
   ]
  },
  {
   "cell_type": "code",
   "execution_count": 21,
   "id": "38839be9",
   "metadata": {
    "execution": {
     "iopub.execute_input": "2022-09-16T01:38:02.982328Z",
     "iopub.status.busy": "2022-09-16T01:38:02.981131Z",
     "iopub.status.idle": "2022-09-16T01:38:02.992081Z",
     "shell.execute_reply": "2022-09-16T01:38:02.991275Z"
    },
    "papermill": {
     "duration": 0.032413,
     "end_time": "2022-09-16T01:38:02.994325",
     "exception": false,
     "start_time": "2022-09-16T01:38:02.961912",
     "status": "completed"
    },
    "tags": []
   },
   "outputs": [
    {
     "data": {
      "text/plain": [
       "(1450, 81)"
      ]
     },
     "execution_count": 21,
     "metadata": {},
     "output_type": "execute_result"
    }
   ],
   "source": [
    "rows_2_drop=df_train[df_train['GrLivArea']>4000].index\n",
    "df_train.drop(rows_2_drop,inplace=True)\n",
    "df_train.shape"
   ]
  },
  {
   "cell_type": "code",
   "execution_count": 22,
   "id": "c4aaf855",
   "metadata": {
    "execution": {
     "iopub.execute_input": "2022-09-16T01:38:03.034228Z",
     "iopub.status.busy": "2022-09-16T01:38:03.033460Z",
     "iopub.status.idle": "2022-09-16T01:38:03.060120Z",
     "shell.execute_reply": "2022-09-16T01:38:03.058839Z"
    },
    "papermill": {
     "duration": 0.049856,
     "end_time": "2022-09-16T01:38:03.062539",
     "exception": false,
     "start_time": "2022-09-16T01:38:03.012683",
     "status": "completed"
    },
    "tags": []
   },
   "outputs": [
    {
     "data": {
      "text/html": [
       "<div>\n",
       "<style scoped>\n",
       "    .dataframe tbody tr th:only-of-type {\n",
       "        vertical-align: middle;\n",
       "    }\n",
       "\n",
       "    .dataframe tbody tr th {\n",
       "        vertical-align: top;\n",
       "    }\n",
       "\n",
       "    .dataframe thead th {\n",
       "        text-align: right;\n",
       "    }\n",
       "</style>\n",
       "<table border=\"1\" class=\"dataframe\">\n",
       "  <thead>\n",
       "    <tr style=\"text-align: right;\">\n",
       "      <th></th>\n",
       "      <th>Id</th>\n",
       "      <th>MSSubClass</th>\n",
       "      <th>MSZoning</th>\n",
       "      <th>LotFrontage</th>\n",
       "      <th>LotArea</th>\n",
       "      <th>Street</th>\n",
       "      <th>Alley</th>\n",
       "      <th>LotShape</th>\n",
       "      <th>LandContour</th>\n",
       "      <th>Utilities</th>\n",
       "      <th>...</th>\n",
       "      <th>PoolArea</th>\n",
       "      <th>PoolQC</th>\n",
       "      <th>Fence</th>\n",
       "      <th>MiscFeature</th>\n",
       "      <th>MiscVal</th>\n",
       "      <th>MoSold</th>\n",
       "      <th>YrSold</th>\n",
       "      <th>SaleType</th>\n",
       "      <th>SaleCondition</th>\n",
       "      <th>SalePrice</th>\n",
       "    </tr>\n",
       "  </thead>\n",
       "  <tbody>\n",
       "    <tr>\n",
       "      <th>249</th>\n",
       "      <td>250</td>\n",
       "      <td>50</td>\n",
       "      <td>RL</td>\n",
       "      <td>NaN</td>\n",
       "      <td>159000</td>\n",
       "      <td>Pave</td>\n",
       "      <td>NaN</td>\n",
       "      <td>IR2</td>\n",
       "      <td>Low</td>\n",
       "      <td>AllPub</td>\n",
       "      <td>...</td>\n",
       "      <td>0</td>\n",
       "      <td>NaN</td>\n",
       "      <td>NaN</td>\n",
       "      <td>Shed</td>\n",
       "      <td>500</td>\n",
       "      <td>6</td>\n",
       "      <td>2007</td>\n",
       "      <td>WD</td>\n",
       "      <td>Normal</td>\n",
       "      <td>277000</td>\n",
       "    </tr>\n",
       "    <tr>\n",
       "      <th>313</th>\n",
       "      <td>314</td>\n",
       "      <td>20</td>\n",
       "      <td>RL</td>\n",
       "      <td>150.0</td>\n",
       "      <td>215245</td>\n",
       "      <td>Pave</td>\n",
       "      <td>NaN</td>\n",
       "      <td>IR3</td>\n",
       "      <td>Low</td>\n",
       "      <td>AllPub</td>\n",
       "      <td>...</td>\n",
       "      <td>0</td>\n",
       "      <td>NaN</td>\n",
       "      <td>NaN</td>\n",
       "      <td>NaN</td>\n",
       "      <td>0</td>\n",
       "      <td>6</td>\n",
       "      <td>2009</td>\n",
       "      <td>WD</td>\n",
       "      <td>Normal</td>\n",
       "      <td>375000</td>\n",
       "    </tr>\n",
       "    <tr>\n",
       "      <th>335</th>\n",
       "      <td>336</td>\n",
       "      <td>190</td>\n",
       "      <td>RL</td>\n",
       "      <td>NaN</td>\n",
       "      <td>164660</td>\n",
       "      <td>Grvl</td>\n",
       "      <td>NaN</td>\n",
       "      <td>IR1</td>\n",
       "      <td>HLS</td>\n",
       "      <td>AllPub</td>\n",
       "      <td>...</td>\n",
       "      <td>0</td>\n",
       "      <td>NaN</td>\n",
       "      <td>NaN</td>\n",
       "      <td>Shed</td>\n",
       "      <td>700</td>\n",
       "      <td>8</td>\n",
       "      <td>2008</td>\n",
       "      <td>WD</td>\n",
       "      <td>Normal</td>\n",
       "      <td>228950</td>\n",
       "    </tr>\n",
       "    <tr>\n",
       "      <th>706</th>\n",
       "      <td>707</td>\n",
       "      <td>20</td>\n",
       "      <td>RL</td>\n",
       "      <td>NaN</td>\n",
       "      <td>115149</td>\n",
       "      <td>Pave</td>\n",
       "      <td>NaN</td>\n",
       "      <td>IR2</td>\n",
       "      <td>Low</td>\n",
       "      <td>AllPub</td>\n",
       "      <td>...</td>\n",
       "      <td>0</td>\n",
       "      <td>NaN</td>\n",
       "      <td>NaN</td>\n",
       "      <td>NaN</td>\n",
       "      <td>0</td>\n",
       "      <td>6</td>\n",
       "      <td>2007</td>\n",
       "      <td>WD</td>\n",
       "      <td>Normal</td>\n",
       "      <td>302000</td>\n",
       "    </tr>\n",
       "  </tbody>\n",
       "</table>\n",
       "<p>4 rows × 81 columns</p>\n",
       "</div>"
      ],
      "text/plain": [
       "      Id  MSSubClass MSZoning  LotFrontage  LotArea Street Alley LotShape  \\\n",
       "249  250          50       RL          NaN   159000   Pave   NaN      IR2   \n",
       "313  314          20       RL        150.0   215245   Pave   NaN      IR3   \n",
       "335  336         190       RL          NaN   164660   Grvl   NaN      IR1   \n",
       "706  707          20       RL          NaN   115149   Pave   NaN      IR2   \n",
       "\n",
       "    LandContour Utilities  ... PoolArea PoolQC Fence MiscFeature MiscVal  \\\n",
       "249         Low    AllPub  ...        0    NaN   NaN        Shed     500   \n",
       "313         Low    AllPub  ...        0    NaN   NaN         NaN       0   \n",
       "335         HLS    AllPub  ...        0    NaN   NaN        Shed     700   \n",
       "706         Low    AllPub  ...        0    NaN   NaN         NaN       0   \n",
       "\n",
       "    MoSold YrSold  SaleType  SaleCondition  SalePrice  \n",
       "249      6   2007        WD         Normal     277000  \n",
       "313      6   2009        WD         Normal     375000  \n",
       "335      8   2008        WD         Normal     228950  \n",
       "706      6   2007        WD         Normal     302000  \n",
       "\n",
       "[4 rows x 81 columns]"
      ]
     },
     "execution_count": 22,
     "metadata": {},
     "output_type": "execute_result"
    }
   ],
   "source": [
    "df_train[df_train['LotArea']>100000]"
   ]
  },
  {
   "cell_type": "code",
   "execution_count": 23,
   "id": "67e26b39",
   "metadata": {
    "execution": {
     "iopub.execute_input": "2022-09-16T01:38:03.101232Z",
     "iopub.status.busy": "2022-09-16T01:38:03.100505Z",
     "iopub.status.idle": "2022-09-16T01:38:03.110854Z",
     "shell.execute_reply": "2022-09-16T01:38:03.109829Z"
    },
    "papermill": {
     "duration": 0.032739,
     "end_time": "2022-09-16T01:38:03.113323",
     "exception": false,
     "start_time": "2022-09-16T01:38:03.080584",
     "status": "completed"
    },
    "tags": []
   },
   "outputs": [
    {
     "data": {
      "text/plain": [
       "(1446, 81)"
      ]
     },
     "execution_count": 23,
     "metadata": {},
     "output_type": "execute_result"
    }
   ],
   "source": [
    "rows_2_drop=df_train[df_train['LotArea']>100000].index\n",
    "df_train.drop(rows_2_drop,inplace=True)\n",
    "df_train.shape"
   ]
  },
  {
   "cell_type": "markdown",
   "id": "078b1f3d",
   "metadata": {
    "papermill": {
     "duration": 0.018665,
     "end_time": "2022-09-16T01:38:03.150790",
     "exception": false,
     "start_time": "2022-09-16T01:38:03.132125",
     "status": "completed"
    },
    "tags": []
   },
   "source": [
    "## 5. Making data ready for modeling 😫"
   ]
  },
  {
   "cell_type": "code",
   "execution_count": 24,
   "id": "861fd65a",
   "metadata": {
    "execution": {
     "iopub.execute_input": "2022-09-16T01:38:03.190233Z",
     "iopub.status.busy": "2022-09-16T01:38:03.189470Z",
     "iopub.status.idle": "2022-09-16T01:38:03.198612Z",
     "shell.execute_reply": "2022-09-16T01:38:03.197670Z"
    },
    "papermill": {
     "duration": 0.031867,
     "end_time": "2022-09-16T01:38:03.201070",
     "exception": false,
     "start_time": "2022-09-16T01:38:03.169203",
     "status": "completed"
    },
    "tags": []
   },
   "outputs": [],
   "source": [
    "X_train = df_train.drop(['Id','SalePrice'],axis=1)\n",
    "y_train = df_train.SalePrice\n",
    "X_test = df_test.drop(['Id'],axis=1)"
   ]
  },
  {
   "cell_type": "code",
   "execution_count": 25,
   "id": "2954fb43",
   "metadata": {
    "execution": {
     "iopub.execute_input": "2022-09-16T01:38:03.240703Z",
     "iopub.status.busy": "2022-09-16T01:38:03.239880Z",
     "iopub.status.idle": "2022-09-16T01:38:03.249966Z",
     "shell.execute_reply": "2022-09-16T01:38:03.249073Z"
    },
    "papermill": {
     "duration": 0.032462,
     "end_time": "2022-09-16T01:38:03.252451",
     "exception": false,
     "start_time": "2022-09-16T01:38:03.219989",
     "status": "completed"
    },
    "tags": []
   },
   "outputs": [],
   "source": [
    "# Select categorical columns with relatively low cardinality (convenient but arbitrary)\n",
    "categorical_cols = [cname for cname in X_train.columns if X_train[cname].dtype == \"object\"]\n",
    "\n",
    "# Select numerical columns\n",
    "numerical_cols = [cname for cname in X_train.columns if X_train[cname].dtype in ['int64', 'float64']]"
   ]
  },
  {
   "cell_type": "code",
   "execution_count": 26,
   "id": "3e1a86cc",
   "metadata": {
    "execution": {
     "iopub.execute_input": "2022-09-16T01:38:03.291359Z",
     "iopub.status.busy": "2022-09-16T01:38:03.290959Z",
     "iopub.status.idle": "2022-09-16T01:38:03.297418Z",
     "shell.execute_reply": "2022-09-16T01:38:03.296211Z"
    },
    "papermill": {
     "duration": 0.02885,
     "end_time": "2022-09-16T01:38:03.299841",
     "exception": false,
     "start_time": "2022-09-16T01:38:03.270991",
     "status": "completed"
    },
    "tags": []
   },
   "outputs": [],
   "source": [
    "# Preprocessing for numerical data\n",
    "numerical_transformer = SimpleImputer(strategy='constant')\n",
    "\n",
    "# Preprocessing for categorical data\n",
    "categorical_transformer = Pipeline(steps=[('imputer', SimpleImputer(strategy='most_frequent')),('onehot', OneHotEncoder(handle_unknown='ignore'))])\n",
    "\n",
    "# Bundle preprocessing for numerical and categorical data\n",
    "preprocessor = ColumnTransformer(transformers=[('num', numerical_transformer, numerical_cols), ('cat', categorical_transformer, categorical_cols)])"
   ]
  },
  {
   "cell_type": "markdown",
   "id": "468e6aaf",
   "metadata": {
    "papermill": {
     "duration": 0.018365,
     "end_time": "2022-09-16T01:38:03.336804",
     "exception": false,
     "start_time": "2022-09-16T01:38:03.318439",
     "status": "completed"
    },
    "tags": []
   },
   "source": [
    "### 6.Modeling 🤖"
   ]
  },
  {
   "cell_type": "code",
   "execution_count": 27,
   "id": "69f7428d",
   "metadata": {
    "execution": {
     "iopub.execute_input": "2022-09-16T01:38:03.376726Z",
     "iopub.status.busy": "2022-09-16T01:38:03.375947Z",
     "iopub.status.idle": "2022-09-16T01:38:12.129984Z",
     "shell.execute_reply": "2022-09-16T01:38:12.128349Z"
    },
    "papermill": {
     "duration": 8.777487,
     "end_time": "2022-09-16T01:38:12.133114",
     "exception": false,
     "start_time": "2022-09-16T01:38:03.355627",
     "status": "completed"
    },
    "tags": []
   },
   "outputs": [],
   "source": [
    "from sklearn.ensemble import RandomForestClassifier\n",
    "model_GBR =  GradientBoostingRegressor(n_estimators=1100, loss='squared_error', subsample = 0.35, learning_rate = 0.05,random_state=1)\n",
    "GBR_Pipeline = Pipeline(steps=[('preprocessor', preprocessor),('model', model_GBR)])\n",
    "GBR_Pipeline.fit(X_train, y_train)\n",
    "preds_GBR = GBR_Pipeline.predict(X_test)"
   ]
  },
  {
   "cell_type": "code",
   "execution_count": 28,
   "id": "e77f4e86",
   "metadata": {
    "execution": {
     "iopub.execute_input": "2022-09-16T01:38:12.171808Z",
     "iopub.status.busy": "2022-09-16T01:38:12.171414Z",
     "iopub.status.idle": "2022-09-16T01:38:12.178951Z",
     "shell.execute_reply": "2022-09-16T01:38:12.177896Z"
    },
    "papermill": {
     "duration": 0.030067,
     "end_time": "2022-09-16T01:38:12.181430",
     "exception": false,
     "start_time": "2022-09-16T01:38:12.151363",
     "status": "completed"
    },
    "tags": []
   },
   "outputs": [],
   "source": [
    "submission= pd.DataFrame({'Id': df_test.Id,'SalePrice': preds_GBR})\n",
    "\n"
   ]
  },
  {
   "cell_type": "markdown",
   "id": "225e92fa",
   "metadata": {
    "papermill": {
     "duration": 0.018004,
     "end_time": "2022-09-16T01:38:12.217632",
     "exception": false,
     "start_time": "2022-09-16T01:38:12.199628",
     "status": "completed"
    },
    "tags": []
   },
   "source": [
    "## Final Submission ✨"
   ]
  },
  {
   "cell_type": "code",
   "execution_count": 29,
   "id": "fa98f185",
   "metadata": {
    "execution": {
     "iopub.execute_input": "2022-09-16T01:38:12.256575Z",
     "iopub.status.busy": "2022-09-16T01:38:12.255771Z",
     "iopub.status.idle": "2022-09-16T01:38:12.266336Z",
     "shell.execute_reply": "2022-09-16T01:38:12.265460Z"
    },
    "papermill": {
     "duration": 0.032966,
     "end_time": "2022-09-16T01:38:12.268907",
     "exception": false,
     "start_time": "2022-09-16T01:38:12.235941",
     "status": "completed"
    },
    "tags": []
   },
   "outputs": [
    {
     "data": {
      "text/html": [
       "<div>\n",
       "<style scoped>\n",
       "    .dataframe tbody tr th:only-of-type {\n",
       "        vertical-align: middle;\n",
       "    }\n",
       "\n",
       "    .dataframe tbody tr th {\n",
       "        vertical-align: top;\n",
       "    }\n",
       "\n",
       "    .dataframe thead th {\n",
       "        text-align: right;\n",
       "    }\n",
       "</style>\n",
       "<table border=\"1\" class=\"dataframe\">\n",
       "  <thead>\n",
       "    <tr style=\"text-align: right;\">\n",
       "      <th></th>\n",
       "      <th>Id</th>\n",
       "      <th>SalePrice</th>\n",
       "    </tr>\n",
       "  </thead>\n",
       "  <tbody>\n",
       "    <tr>\n",
       "      <th>0</th>\n",
       "      <td>1461</td>\n",
       "      <td>129342.816129</td>\n",
       "    </tr>\n",
       "    <tr>\n",
       "      <th>1</th>\n",
       "      <td>1462</td>\n",
       "      <td>166620.120890</td>\n",
       "    </tr>\n",
       "    <tr>\n",
       "      <th>2</th>\n",
       "      <td>1463</td>\n",
       "      <td>193674.049572</td>\n",
       "    </tr>\n",
       "    <tr>\n",
       "      <th>3</th>\n",
       "      <td>1464</td>\n",
       "      <td>192106.119131</td>\n",
       "    </tr>\n",
       "    <tr>\n",
       "      <th>4</th>\n",
       "      <td>1465</td>\n",
       "      <td>190898.952934</td>\n",
       "    </tr>\n",
       "  </tbody>\n",
       "</table>\n",
       "</div>"
      ],
      "text/plain": [
       "     Id      SalePrice\n",
       "0  1461  129342.816129\n",
       "1  1462  166620.120890\n",
       "2  1463  193674.049572\n",
       "3  1464  192106.119131\n",
       "4  1465  190898.952934"
      ]
     },
     "execution_count": 29,
     "metadata": {},
     "output_type": "execute_result"
    }
   ],
   "source": [
    "submission.head()"
   ]
  },
  {
   "cell_type": "code",
   "execution_count": 30,
   "id": "92146fb4",
   "metadata": {
    "execution": {
     "iopub.execute_input": "2022-09-16T01:38:12.307453Z",
     "iopub.status.busy": "2022-09-16T01:38:12.307022Z",
     "iopub.status.idle": "2022-09-16T01:38:12.318705Z",
     "shell.execute_reply": "2022-09-16T01:38:12.317815Z"
    },
    "papermill": {
     "duration": 0.034229,
     "end_time": "2022-09-16T01:38:12.321497",
     "exception": false,
     "start_time": "2022-09-16T01:38:12.287268",
     "status": "completed"
    },
    "tags": []
   },
   "outputs": [],
   "source": [
    "submission.to_csv('submission.csv',index=False)"
   ]
  },
  {
   "cell_type": "code",
   "execution_count": null,
   "id": "1ee58c10",
   "metadata": {
    "papermill": {
     "duration": 0.018018,
     "end_time": "2022-09-16T01:38:12.358217",
     "exception": false,
     "start_time": "2022-09-16T01:38:12.340199",
     "status": "completed"
    },
    "tags": []
   },
   "outputs": [],
   "source": []
  }
 ],
 "metadata": {
  "kernelspec": {
   "display_name": "Python 3",
   "language": "python",
   "name": "python3"
  },
  "language_info": {
   "codemirror_mode": {
    "name": "ipython",
    "version": 3
   },
   "file_extension": ".py",
   "mimetype": "text/x-python",
   "name": "python",
   "nbconvert_exporter": "python",
   "pygments_lexer": "ipython3",
   "version": "3.7.12"
  },
  "papermill": {
   "default_parameters": {},
   "duration": 28.941523,
   "end_time": "2022-09-16T01:38:13.199405",
   "environment_variables": {},
   "exception": null,
   "input_path": "__notebook__.ipynb",
   "output_path": "__notebook__.ipynb",
   "parameters": {},
   "start_time": "2022-09-16T01:37:44.257882",
   "version": "2.3.4"
  }
 },
 "nbformat": 4,
 "nbformat_minor": 5
}
